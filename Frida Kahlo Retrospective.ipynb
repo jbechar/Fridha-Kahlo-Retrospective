{
 "cells": [
  {
   "cell_type": "code",
   "execution_count": 32,
   "id": "e78774e1",
   "metadata": {},
   "outputs": [],
   "source": [
    "from IPython.core.interactiveshell import InteractiveShell\n",
    "InteractiveShell.ast_node_interactivity = \"all\"#makes everything look alright"
   ]
  },
  {
   "cell_type": "markdown",
   "id": "a8a6ffb2",
   "metadata": {},
   "source": [
    "**Congratulations! You’ve been hired to work on a retrospective of Frida Kahlo’s work at a major museum in Mexico.**\n",
    "\n",
    "Your job is to put together the audio tour, but in order to do that, you need to create a list of each painting featured in the exhibit, the date it was painted, and its spot on the tour.\n",
    "\n",
    "Use your knowledge of Python lists to create a master list of each painting, its date, and its audio tour ID."
   ]
  },
  {
   "cell_type": "code",
   "execution_count": 33,
   "id": "87216c0a",
   "metadata": {},
   "outputs": [
    {
     "name": "stdout",
     "output_type": "stream",
     "text": [
      "[('The Two Fridas', 1939), ('My Dress Hangs Here', 1933), ('Tree of Hope', 1946), ('Self Portrait With Monkeys', 1940)]\n"
     ]
    }
   ],
   "source": [
    "\n",
    "\n",
    "#here we create the lists for paintings and their associated dates, and zip them together\n",
    "\n",
    "paintings = ['The Two Fridas', 'My Dress Hangs Here', 'Tree of Hope', 'Self Portrait With Monkeys']\n",
    "dates = [1939, 1933, 1946, 1940]\n",
    "             \n",
    "paintings = list(zip(paintings, dates))#adds the first list to the 2nd list\n",
    "print(paintings)\n"
   ]
  },
  {
   "cell_type": "markdown",
   "id": "212181f2",
   "metadata": {},
   "source": [
    "There were some last minute additions to the show that we need to add to our list. Append these paintings to our paintings list then re-print to check they were added correctly:"
   ]
  },
  {
   "cell_type": "code",
   "execution_count": 34,
   "id": "b286b003",
   "metadata": {},
   "outputs": [
    {
     "name": "stdout",
     "output_type": "stream",
     "text": [
      "[('The Two Fridas', 1939), ('My Dress Hangs Here', 1933), ('Tree of Hope', 1946), ('Self Portrait With Monkeys', 1940), ('The Broken Column', 1944), ('The Wounded Deer', 1946), ('Me and My Doll', 1937)]\n"
     ]
    }
   ],
   "source": [
    "paintings.append(('The Broken Column', 1944))\n",
    "paintings.append(('The Wounded Deer', 1946))\n",
    "paintings.append(('Me and My Doll', 1937))\n",
    "print(paintings)#unfortunatley, we can only append one item at a time"
   ]
  },
  {
   "cell_type": "code",
   "execution_count": 35,
   "id": "e862856e",
   "metadata": {},
   "outputs": [
    {
     "data": {
      "text/plain": [
       "7"
      ]
     },
     "execution_count": 35,
     "metadata": {},
     "output_type": "execute_result"
    }
   ],
   "source": [
    "len(paintings)#tells us the length of the painting\n",
    "\n"
   ]
  },
  {
   "cell_type": "code",
   "execution_count": 36,
   "id": "114331b9",
   "metadata": {},
   "outputs": [],
   "source": [
    "audio_tour_number = range(1,8)# starts at 1, to get over pytons wierd indexing, and is equal to our list of items"
   ]
  },
  {
   "cell_type": "markdown",
   "id": "40e4d2f4",
   "metadata": {},
   "source": [
    "We’re finally ready to create our master list. Zip the audio_tour_number list to the paintings list and save it as master_list"
   ]
  },
  {
   "cell_type": "code",
   "execution_count": 37,
   "id": "63bcb71e",
   "metadata": {},
   "outputs": [
    {
     "name": "stdout",
     "output_type": "stream",
     "text": [
      "[(1, ('The Two Fridas', 1939)), (2, ('My Dress Hangs Here', 1933)), (3, ('Tree of Hope', 1946)), (4, ('Self Portrait With Monkeys', 1940)), (5, ('The Broken Column', 1944)), (6, ('The Wounded Deer', 1946)), (7, ('Me and My Doll', 1937))]\n"
     ]
    }
   ],
   "source": [
    "master_list = list(zip(audio_tour_number, paintings))\n",
    "print(master_list)"
   ]
  },
  {
   "cell_type": "code",
   "execution_count": 38,
   "id": "1e42fa19",
   "metadata": {},
   "outputs": [],
   "source": [
    "from IPython.core.interactiveshell import InteractiveShell\n",
    "InteractiveShell.ast_node_interactivity = \"all\""
   ]
  },
  {
   "cell_type": "code",
   "execution_count": null,
   "id": "2c24efa2",
   "metadata": {},
   "outputs": [],
   "source": []
  },
  {
   "cell_type": "code",
   "execution_count": null,
   "id": "f2854472",
   "metadata": {},
   "outputs": [],
   "source": []
  },
  {
   "cell_type": "code",
   "execution_count": null,
   "id": "d4eac450",
   "metadata": {},
   "outputs": [],
   "source": []
  }
 ],
 "metadata": {
  "kernelspec": {
   "display_name": "Python 3 (ipykernel)",
   "language": "python",
   "name": "python3"
  },
  "language_info": {
   "codemirror_mode": {
    "name": "ipython",
    "version": 3
   },
   "file_extension": ".py",
   "mimetype": "text/x-python",
   "name": "python",
   "nbconvert_exporter": "python",
   "pygments_lexer": "ipython3",
   "version": "3.9.12"
  }
 },
 "nbformat": 4,
 "nbformat_minor": 5
}
